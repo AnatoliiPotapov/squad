{
 "cells": [
  {
   "cell_type": "markdown",
   "metadata": {},
   "source": [
    "# Exploration of he original squad dataset"
   ]
  },
  {
   "cell_type": "code",
   "execution_count": 12,
   "metadata": {},
   "outputs": [],
   "source": [
    "import numpy as np\n",
    "import json"
   ]
  },
  {
   "cell_type": "code",
   "execution_count": 13,
   "metadata": {
    "collapsed": true
   },
   "outputs": [],
   "source": [
    "class DotDict(dict):\n",
    "    def __getattr__(self, name):\n",
    "        return self[name]\n",
    "\n",
    "args = DotDict()\n",
    "args.data = '../../data/train-v1.1.json'\n",
    "args.outfile = '../../data/train_parsed.json'\n",
    "args.outfile_valid = '../../data/valid_parsed.json'\n",
    "args.train_ratio = 0.9"
   ]
  },
  {
   "cell_type": "code",
   "execution_count": 14,
   "metadata": {},
   "outputs": [],
   "source": [
    "with open(args.data, 'r') as f:\n",
    "    data = json.load(f)"
   ]
  },
  {
   "cell_type": "code",
   "execution_count": 16,
   "metadata": {},
   "outputs": [
    {
     "data": {
      "text/plain": [
       "[u'version', u'data']"
      ]
     },
     "execution_count": 16,
     "metadata": {},
     "output_type": "execute_result"
    }
   ],
   "source": [
    "type(data)\n",
    "data.keys()"
   ]
  },
  {
   "cell_type": "code",
   "execution_count": 19,
   "metadata": {},
   "outputs": [
    {
     "data": {
      "text/plain": [
       "u'1.1'"
      ]
     },
     "execution_count": 19,
     "metadata": {},
     "output_type": "execute_result"
    }
   ],
   "source": [
    "data['version']"
   ]
  },
  {
   "cell_type": "code",
   "execution_count": 20,
   "metadata": {
    "collapsed": true
   },
   "outputs": [],
   "source": [
    "data = data['data']"
   ]
  },
  {
   "cell_type": "code",
   "execution_count": 21,
   "metadata": {},
   "outputs": [
    {
     "data": {
      "text/plain": [
       "list"
      ]
     },
     "execution_count": 21,
     "metadata": {},
     "output_type": "execute_result"
    }
   ],
   "source": [
    "type(data)"
   ]
  },
  {
   "cell_type": "code",
   "execution_count": 26,
   "metadata": {},
   "outputs": [
    {
     "data": {
      "text/plain": [
       "442"
      ]
     },
     "execution_count": 26,
     "metadata": {},
     "output_type": "execute_result"
    }
   ],
   "source": [
    "len(data)"
   ]
  },
  {
   "cell_type": "markdown",
   "metadata": {},
   "source": [
    "# 442 papers(topics) in total in squad dataset"
   ]
  },
  {
   "cell_type": "code",
   "execution_count": 34,
   "metadata": {},
   "outputs": [
    {
     "name": "stdout",
     "output_type": "stream",
     "text": [
      "[u'University_of_Notre_Dame', u'Beyonc\\xe9', u'Montana', u'Genocide', u'Antibiotics', u'Fr\\xe9d\\xe9ric_Chopin', u'Sino-Tibetan_relations_during_the_Ming_dynasty', u'IPod', u'The_Legend_of_Zelda:_Twilight_Princess', u'Spectre_(2015_film)', u'2008_Sichuan_earthquake', u'New_York_City', u'To_Kill_a_Mockingbird', u'Solar_energy', u'Tajikistan', u'Anthropology', u'Portugal', u'Kanye_West', u'Buddhism', u'American_Idol', u'Dog', u'2008_Summer_Olympics_torch_relay', u'Alfred_North_Whitehead', u'Financial_crisis_of_2007%E2%80%9308', u'Saint_Barth%C3%A9lemy', u'Genome', u'Comprehensive_school', u'Republic_of_the_Congo', u'Prime_minister', u'Institute_of_technology', u'Wayback_Machine', u'Dutch_Republic', u'Symbiosis', u'Canadian_Armed_Forces', u'Cardinal_(Catholicism)', u'Iranian_languages', u'Lighting', u'Separation_of_powers_under_the_United_States_Constitution', u'Architecture', u'Human_Development_Index', u'Southern_Europe', u'BBC_Television', u'Arnold_Schwarzenegger', u'Plymouth', u'Heresy', u'Warsaw_Pact', u'Materialism', u'Space_Race', u'Pub', u'Christian', u'Sony_Music_Entertainment', u'Oklahoma_City', u'Hunter-gatherer', u'United_Nations_Population_Fund', u'Russian_Soviet_Federative_Socialist_Republic', u'Universal_Studios', u'Alexander_Graham_Bell', u'Internet_service_provider', u'Comics', u'Saint_Helena', u'Aspirated_consonant', u'Hydrogen', u'Web_browser', u'Boston', u'BeiDou_Navigation_Satellite_System', u'Canon_law', u'Communications_in_Somalia', u'Catalan_language', u'Estonian_language', u'Paper', u'Arena_Football_League', u'Adult_contemporary_music', u'Matter', u'Westminster_Abbey', u'Nanjing', u'Bern', u'Daylight_saving_time', u'Royal_Institute_of_British_Architects', u'National_Archives_and_Records_Administration', u'Tristan_da_Cunha', u'University_of_Kansas', u'Political_corruption', u'Dialect', u'Classical_music', u'Slavs', u'Southampton', u'Treaty', u'Josip_Broz_Tito', u'Marshall_Islands', u'Szlachta', u'Virgil', u'Alps', u'Gene', u'Guinea-Bissau', u'List_of_numbered_streets_in_Manhattan', u'Brain', u'Near_East', u'Zhejiang', u'Ministry_of_Defence_(United_Kingdom)', u'High-definition_television']\n"
     ]
    }
   ],
   "source": [
    "print([data[i]['title'] for i in range(100)])"
   ]
  },
  {
   "cell_type": "code",
   "execution_count": 36,
   "metadata": {},
   "outputs": [
    {
     "data": {
      "text/plain": [
       "[u'paragraphs', u'title']"
      ]
     },
     "execution_count": 36,
     "metadata": {},
     "output_type": "execute_result"
    }
   ],
   "source": [
    "data[0].keys()"
   ]
  },
  {
   "cell_type": "code",
   "execution_count": 40,
   "metadata": {},
   "outputs": [
    {
     "data": {
      "text/plain": [
       "55"
      ]
     },
     "execution_count": 40,
     "metadata": {},
     "output_type": "execute_result"
    }
   ],
   "source": [
    "len(data[0]['paragraphs'])"
   ]
  },
  {
   "cell_type": "code",
   "execution_count": 41,
   "metadata": {},
   "outputs": [
    {
     "data": {
      "text/plain": [
       "[u'qas', u'context']"
      ]
     },
     "execution_count": 41,
     "metadata": {},
     "output_type": "execute_result"
    }
   ],
   "source": [
    "data[0]['paragraphs'][0].keys()"
   ]
  },
  {
   "cell_type": "code",
   "execution_count": 42,
   "metadata": {},
   "outputs": [
    {
     "data": {
      "text/plain": [
       "u'Architecturally, the school has a Catholic character. Atop the Main Building\\'s gold dome is a golden statue of the Virgin Mary. Immediately in front of the Main Building and facing it, is a copper statue of Christ with arms upraised with the legend \"Venite Ad Me Omnes\". Next to the Main Building is the Basilica of the Sacred Heart. Immediately behind the basilica is the Grotto, a Marian place of prayer and reflection. It is a replica of the grotto at Lourdes, France where the Virgin Mary reputedly appeared to Saint Bernadette Soubirous in 1858. At the end of the main drive (and in a direct line that connects through 3 statues and the Gold Dome), is a simple, modern stone statue of Mary.'"
      ]
     },
     "execution_count": 42,
     "metadata": {},
     "output_type": "execute_result"
    }
   ],
   "source": [
    "data[0]['paragraphs'][0]['context']"
   ]
  },
  {
   "cell_type": "code",
   "execution_count": 46,
   "metadata": {},
   "outputs": [
    {
     "data": {
      "text/plain": [
       "[{u'answers': [{u'answer_start': 36, u'text': u'Asgaya gigageyi'}],\n",
       "  u'id': u'5727cbc3ff5b5019007d9564',\n",
       "  u'question': u'What is the Cherokee name for Oklahoma?'},\n",
       " {u'answers': [{u'answer_start': 106, u'text': u'Uukuhu\\xfawa'}],\n",
       "  u'id': u'5727cbc3ff5b5019007d9565',\n",
       "  u'question': u'What is the Pawnee name for Oklahoma?'},\n",
       " {u'answers': [{u'answer_start': 125, u'text': u'Gahnawiyo\\u02c0geh'}],\n",
       "  u'id': u'5727cbc3ff5b5019007d9566',\n",
       "  u'question': u'What is the Cayuga name for Oklahoma?'},\n",
       " {u'answers': [{u'answer_start': 239, u'text': u'28th'}],\n",
       "  u'id': u'5727cbc3ff5b5019007d9567',\n",
       "  u'question': u'Where does Oklahoma rank by population?'},\n",
       " {u'answers': [{u'answer_start': 417, u'text': u'The Sooner State'}],\n",
       "  u'id': u'5727cbc3ff5b5019007d9568',\n",
       "  u'question': u\"What is Oklahoma's nickname?\"}]"
      ]
     },
     "execution_count": 46,
     "metadata": {},
     "output_type": "execute_result"
    }
   ],
   "source": [
    "data[303]['paragraphs'][0]['qas']"
   ]
  },
  {
   "cell_type": "code",
   "execution_count": 44,
   "metadata": {},
   "outputs": [
    {
     "data": {
      "text/plain": [
       "[{u'answers': [{u'answer_start': 4, u'text': u'2008'}],\n",
       "  u'id': u'56cdca7862d2951400fa6826',\n",
       "  u'question': u'In what year did the earthquake in Sichuan occur?'},\n",
       " {u'answers': [{u'answer_start': 31,\n",
       "    u'text': u'the Great Sichuan earthquake'}],\n",
       "  u'id': u'56cdca7862d2951400fa6827',\n",
       "  u'question': u'What was the earthquake named?'},\n",
       " {u'answers': [{u'answer_start': 206, u'text': u'69,197'}],\n",
       "  u'id': u'56cdca7862d2951400fa6828',\n",
       "  u'question': u'How many people were killed as a result?'},\n",
       " {u'answers': [{u'answer_start': 4, u'text': u'2008'}],\n",
       "  u'id': u'56d4f9902ccc5a1400d833c0',\n",
       "  u'question': u'What year did the Sichuan earthquake take place?'},\n",
       " {u'answers': [{u'answer_start': 73, u'text': u'8.0 Ms and 7.9 Mw'}],\n",
       "  u'id': u'56d4f9902ccc5a1400d833c1',\n",
       "  u'question': u'What did the quake measure?'},\n",
       " {u'answers': [{u'answer_start': 171, u'text': u'May 12'}],\n",
       "  u'id': u'56d4f9902ccc5a1400d833c2',\n",
       "  u'question': u'What day did the earthquake occur?'},\n",
       " {u'answers': [{u'answer_start': 108,\n",
       "    u'text': u'02:28:01 PM China Standard Time'}],\n",
       "  u'id': u'56d4f9902ccc5a1400d833c3',\n",
       "  u'question': u'What time of the day did the quake happen?'},\n",
       " {u'answers': [{u'answer_start': 206, u'text': u'69,197'}],\n",
       "  u'id': u'56d4f9902ccc5a1400d833c4',\n",
       "  u'question': u'How many people died?'}]"
      ]
     },
     "execution_count": 44,
     "metadata": {},
     "output_type": "execute_result"
    }
   ],
   "source": [
    "data[10]['paragraphs'][0]['qas']"
   ]
  },
  {
   "cell_type": "code",
   "execution_count": 45,
   "metadata": {},
   "outputs": [
    {
     "data": {
      "text/plain": [
       "[{u'answers': [{u'answer_start': 83, u'text': u'construction material'}],\n",
       "  u'id': u'56f9e9738f12f3190062ffe7',\n",
       "  u'question': u'What has been the primary purpose of wood for millennia other than fuel?'},\n",
       " {u'answers': [{u'answer_start': 116, u'text': u'houses'}],\n",
       "  u'id': u'56f9e9738f12f3190062ffe8',\n",
       "  u'question': u'What is often made of wood that provides shelter to people?'},\n",
       " {u'answers': [{u'answer_start': 213, u'text': u'tree-ring widths'}],\n",
       "  u'id': u'56f9e9738f12f3190062ffe9',\n",
       "  u'question': u'For clues about the climate of a place, we can look at variation in isotopic abundances or what other thing?'},\n",
       " {u'answers': [{u'answer_start': 131, u'text': u'weapons'}],\n",
       "  u'id': u'56f9e9738f12f3190062ffea',\n",
       "  u'question': u'What could be made out of wood that could be used to fight off attackers?'},\n",
       " {u'answers': [{u'answer_start': 140, u'text': u'furniture'}],\n",
       "  u'id': u'56f9e9738f12f3190062ffeb',\n",
       "  u'question': u'What category of items often constructed from wood does a chair belong to?'}]"
      ]
     },
     "execution_count": 45,
     "metadata": {},
     "output_type": "execute_result"
    }
   ],
   "source": [
    "data[100]['paragraphs'][3]['qas']"
   ]
  },
  {
   "cell_type": "markdown",
   "metadata": {},
   "source": [
    "# For each paper there are several paragraphs"
   ]
  },
  {
   "cell_type": "code",
   "execution_count": null,
   "metadata": {
    "collapsed": true
   },
   "outputs": [],
   "source": []
  }
 ],
 "metadata": {
  "kernelspec": {
   "display_name": "Python 2",
   "language": "python",
   "name": "python2"
  },
  "language_info": {
   "codemirror_mode": {
    "name": "ipython",
    "version": 2
   },
   "file_extension": ".py",
   "mimetype": "text/x-python",
   "name": "python",
   "nbconvert_exporter": "python",
   "pygments_lexer": "ipython2",
   "version": "2.7.12"
  }
 },
 "nbformat": 4,
 "nbformat_minor": 1
}
